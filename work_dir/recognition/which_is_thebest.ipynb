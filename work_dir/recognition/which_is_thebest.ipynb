{
 "cells": [
  {
   "cell_type": "code",
   "execution_count": 30,
   "metadata": {},
   "outputs": [],
   "source": [
    "import numpy as np"
   ]
  },
  {
   "cell_type": "code",
   "execution_count": 46,
   "metadata": {},
   "outputs": [],
   "source": [
    "file = open('sbu_pam_fold1_v2/log.txt','r')"
   ]
  },
  {
   "cell_type": "code",
   "execution_count": 47,
   "metadata": {},
   "outputs": [],
   "source": [
    "file = file.readlines()"
   ]
  },
  {
   "cell_type": "code",
   "execution_count": 48,
   "metadata": {},
   "outputs": [
    {
     "name": "stdout",
     "output_type": "stream",
     "text": [
      "98.15\n",
      "101\n"
     ]
    }
   ],
   "source": [
    "best = 0\n",
    "epoch_best = 0\n",
    "for line in file:\n",
    "    if 'Eval epoch' in line:\n",
    "        epoch_number = line.split('epoch:')[1]\n",
    "    elif 'Top1' in line:\n",
    "        accuracy = float(line.split('Top1:')[1].split('%')[0])\n",
    "#         print(int(epoch_number) , ' ',accuracy)\n",
    "        if best<accuracy:\n",
    "            epoch_best = int(epoch_number)\n",
    "            best =  accuracy\n",
    "    else:\n",
    "        continue\n",
    "print(best)\n",
    "print(epoch_best)"
   ]
  },
  {
   "cell_type": "code",
   "execution_count": 56,
   "metadata": {},
   "outputs": [
    {
     "name": "stdout",
     "output_type": "stream",
     "text": [
      "98.53\n",
      "100\n"
     ]
    }
   ],
   "source": [
    "file = open('sbu_pam_fold4/log.txt','r')\n",
    "file = file.readlines()\n",
    "best = 0\n",
    "epoch_best = 0\n",
    "for line in file:\n",
    "    if 'Eval epoch' in line:\n",
    "        epoch_number = line.split('epoch:')[1]\n",
    "    elif 'Top1' in line:\n",
    "        accuracy = float(line.split('Top1:')[1].split('%')[0])\n",
    "#         print(int(epoch_number) , ' ',accuracy)\n",
    "        if best<accuracy:\n",
    "            epoch_best = int(epoch_number)\n",
    "            best =  accuracy\n",
    "    else:\n",
    "        continue\n",
    "print(best)\n",
    "print(epoch_best)"
   ]
  },
  {
   "cell_type": "code",
   "execution_count": null,
   "metadata": {},
   "outputs": [],
   "source": []
  }
 ],
 "metadata": {
  "kernelspec": {
   "display_name": "Python 3",
   "language": "python",
   "name": "python3"
  },
  "language_info": {
   "codemirror_mode": {
    "name": "ipython",
    "version": 3
   },
   "file_extension": ".py",
   "mimetype": "text/x-python",
   "name": "python",
   "nbconvert_exporter": "python",
   "pygments_lexer": "ipython3",
   "version": "3.7.3"
  }
 },
 "nbformat": 4,
 "nbformat_minor": 2
}
